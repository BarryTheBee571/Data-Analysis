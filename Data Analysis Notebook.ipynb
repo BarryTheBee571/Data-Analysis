{
 "cells": [
  {
   "attachments": {},
   "cell_type": "markdown",
   "metadata": {},
   "source": [
    "# <ins>**Data Analysis- Coles Sales Data**</ins>\n",
    "\n",
    "---\n",
    "---\n"
   ]
  },
  {
   "attachments": {},
   "cell_type": "markdown",
   "metadata": {},
   "source": [
    "## <ins>**Identifying and Defining**</ins>\n",
    "**Data:** Coles Sales and Store Data\\\n",
    "**Goal:** Find out if location and staff count impact sales\\\n",
    "**Source:** https://www.kaggle.com/datasets/ankitab18/coles-supermarket-sales?resource=download&select=ColesSalesData.csv\\\n",
    "**Access:** It is publicly available through kaggle\\\n",
    "**Access Method:** Access to data will be through a .csv file\n",
    "\n",
    "---"
   ]
  },
  {
   "attachments": {},
   "cell_type": "markdown",
   "metadata": {},
   "source": [
    "#### **Learning Intentions:**\n",
    "Specify the functional requirements of a data analysis, including stating the purpose of a solution, describing use cases, and developing test cases of inputs and expected outputs.\\\n",
    "Specify the non-functional requirements of a data analysis.\n",
    "\n",
    "#### **Success Criteria:**\n",
    "I can clearly state the purpose of a data analysis solution.\\\n",
    "I can describe use cases that outline how the data analysis solution will be used.\\\n",
    "I can develop test cases that include inputs and expected outputs for the data analysis solution.\\\n",
    "I can specify non-functional requirements such as performance, scalability, security, and usability for a data analysis solution.\\\n",
    "I can explain the importance of non-functional requirements in ensuring the overall quality and effectiveness of a data analysis solution.\n",
    "\n",
    "---"
   ]
  },
  {
   "attachments": {},
   "cell_type": "markdown",
   "metadata": {},
   "source": [
    "### <ins>**Functional Requirements**<ins>"
   ]
  },
  {
   "attachments": {},
   "cell_type": "markdown",
   "metadata": {},
   "source": [
    "#### **Data Loading:**\n",
    "Description: Have the ability to load files and handle errors if there is a problem when loading a file, for example, wrong format or missing files.\\\n",
    "Input: User will have to attach a .csv or API file\\\n",
    "Output: Programme is able to analysis the data\n"
   ]
  },
  {
   "attachments": {},
   "cell_type": "markdown",
   "metadata": {},
   "source": [
    "#### **Data Cleaning:**\n",
    "Description: Data can be filtered, sorted and grouped, as well as finding and handling with missing values/data or discovering errors\\\n",
    "Input: Error is detected by the program or user inputs a request to filter/sort data\\\n",
    "Output: Program prints error message or shows the user with the requested filtered data\n"
   ]
  },
  {
   "attachments": {},
   "cell_type": "markdown",
   "metadata": {},
   "source": [
    "#### **Data Analysis:** \n",
    "Description: Program has the ability to find the average, highest, lowest or any other value that the user request to see\\\n",
    "Input: User request to see any of the above functinos or their own request\\\n",
    "Output: Program accesses the dataset and visualises it for the user\n"
   ]
  },
  {
   "attachments": {},
   "cell_type": "markdown",
   "metadata": {},
   "source": [
    "#### **Data Visualisation:**\n",
    "How will the data need to be visualised (e.g. Pandas dataframes / Matplotlib chart types)? \n",
    "Description: Data needs to be visualised in a way that the user can understand. For examples a Pandas dataframe\\\n",
    "Input: User will request for the data to be displayed\\\n",
    "Output: Program shows the dataset through a visualised form such as a Pandas Dataframe\n"
   ]
  },
  {
   "attachments": {},
   "cell_type": "markdown",
   "metadata": {},
   "source": [
    "#### **Data Reporting:**\n",
    "Description: Saves the file/program as a .csv or other forms\\\n",
    "Input: The user will need to request to save the file/program\\\n",
    "Output: Saves file as .csv or other form\n",
    "\n",
    "---\n"
   ]
  },
  {
   "attachments": {},
   "cell_type": "markdown",
   "metadata": {},
   "source": [
    "### <ins>**Non-Functional Requirements**<ins>"
   ]
  },
  {
   "attachments": {},
   "cell_type": "markdown",
   "metadata": {},
   "source": [
    "#### **Usability:**\n",
    "Program can be accessed and easily able to be used, read, and understandable to the user. Program must also have a user interface for the user to be able to actually use the program/system. "
   ]
  },
  {
   "attachments": {},
   "cell_type": "markdown",
   "metadata": {},
   "source": [
    "#### **Reliability:**\n",
    "\n",
    "What is required from the system when providing information to the user on errors and ensuring data integrity?\n",
    "\n",
    "---"
   ]
  },
  {
   "attachments": {},
   "cell_type": "markdown",
   "metadata": {},
   "source": [
    "### <ins>**Use Cases**<ins>"
   ]
  },
  {
   "attachments": {},
   "cell_type": "markdown",
   "metadata": {},
   "source": [
    "#### **Data Loading:**\n",
    "Actor: Marketing person\\\n",
    "Goal: To load the dataset\\\n",
    "Preconditions: Dataset is in folder ready for use\\\n",
    "Main Flow:\n",
    "1. User runs program\n",
    "2. File/dataset is loaded\n",
    "\n",
    "Postconditions: Dataset is loaded and ready for analysis.\n",
    "\n",
    "#### **Data Cleaning:**\n",
    "Actor: Marketing Person\\\n",
    "Goal: To filter data set to relevant data\\\n",
    "Preconditions: Dataset is in folder ready for use\\\n",
    "Main Flow:\n",
    "1. User runs program\n",
    "2. User selects data that they wich to be showed\n",
    "3. Program visualises the data\n",
    "4. Program outputs the data in a way that can be visualises\n",
    "\n",
    "Postconditions: Dataset is filtered to the relevant data\n",
    "\n",
    "#### **Data Analysis:**\n",
    "Actor: Marketing person\\\n",
    "Goal: To find the average, highest, or lowest amount of something\n",
    "Preconitions: Dataset is in folder ready for use\\\n",
    "Main Flow:\n",
    "1. User runs program\n",
    "2. User selects whether they want the average, highest, or lowest amount\n",
    "3. Program outputs the requested data\n",
    "\n",
    "Postconditions: Dataset shows the average, highest, or lowest amount of a category\n",
    "\n",
    "#### **Data Visualisation:**\n",
    "Actor: Marketing person\\\n",
    "Goal: To visualise the data so it can be presented\\\n",
    "Preconditions: Dataset is in the folder ready for use\\\n",
    "Main Flow:\n",
    "1. User runs program\n",
    "2. User selects visualise\n",
    "3. Program outputs the dataset in a visualised form\n",
    "\n",
    "Postconditions: Dataset is visualised in a Matplotlib\n",
    "\n",
    "#### **Data Reporting:**\n",
    "Actor: Marketing person\\\n",
    "Goal: To save the file so that it can be used later\\\n",
    "Preconditions: Program is loaded and ready\\\n",
    "Main Flow:\n",
    "1. User saves program\n",
    "\n",
    "Postconditions: program or file is saved as a .csv\n",
    "\n",
    "\n",
    "---\n",
    "---"
   ]
  },
  {
   "attachments": {},
   "cell_type": "markdown",
   "metadata": {},
   "source": [
    "## <ins>**Researching and Planning**</ins>"
   ]
  },
  {
   "attachments": {},
   "cell_type": "markdown",
   "metadata": {},
   "source": [
    "#### **Learning Intentions:**\n",
    "Collect and interpret data while adhering to privacy and cybersecurity principles.\\\n",
    "Represent and store data to facilitate computation, including selecting appropriate data types, understanding data type limitations, and structuring data systematically.\\\n",
    "#### **Success Criteria:**\n",
    "I can collect data following established privacy and cybersecurity principles to ensure data protection.\\\n",
    "I can interpret data while maintaining compliance with privacy regulations and cybersecurity practices.\\\n",
    "I can select appropriate data types for representing and storing data to facilitate computation.\\\n",
    "I can structure data systematically to support efficient computation and analysis.\n",
    "\n",
    "---"
   ]
  },
  {
   "attachments": {},
   "cell_type": "markdown",
   "metadata": {},
   "source": [
    "### <ins>**Research of Chosen Issue**<ins>\n",
    "#### **Purpose:** \n",
    "The purpose of this program is to help the marketing team see whether staff count, location or other things impact sales. The marketing people or executives can make the decision whether a location needs to hire more people to keep up with sales, or other cases. \n",
    "\n",
    "Missing Data: Explain why you feel it is necessary to carry out this analysis, with explicit reference to what the current data / information you have found is missing.\n",
    "\n",
    "Stakeholders: Who will benefit from the information you create? \n",
    "\n",
    "Use: How can the information you obtain from this data analysis be used for or by those who benefit?\n"
   ]
  }
 ],
 "metadata": {
  "kernelspec": {
   "display_name": "Python 3",
   "language": "python",
   "name": "python3"
  },
  "language_info": {
   "name": "python",
   "version": "3.9.2"
  },
  "orig_nbformat": 4
 },
 "nbformat": 4,
 "nbformat_minor": 2
}
