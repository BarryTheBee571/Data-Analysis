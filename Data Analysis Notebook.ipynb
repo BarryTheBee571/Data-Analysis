{
 "cells": [
  {
   "attachments": {},
   "cell_type": "markdown",
   "metadata": {},
   "source": [
    "# <ins>**Data Analysis- Coles Sales Data**</ins>\n",
    "\n",
    "---\n",
    "---\n"
   ]
  },
  {
   "attachments": {},
   "cell_type": "markdown",
   "metadata": {},
   "source": [
    "## <ins>**Identifying and Defining**</ins>\n",
    "**Data:** Coles Sales and Store Data\\\n",
    "**Goal:** Find out if location and staff count impact sales\\\n",
    "**Source:** https://www.kaggle.com/datasets/ankitab18/coles-supermarket-sales?resource=download&select=ColesSalesData.csv\\\n",
    "**Access:** It is publicly available through kaggle\\\n",
    "**Access Method:** Access to data will be through a .csv file\n",
    "\n",
    "---"
   ]
  },
  {
   "attachments": {},
   "cell_type": "markdown",
   "metadata": {},
   "source": [
    "#### **Learning Intentions:**\n",
    "Specify the functional requirements of a data analysis, including stating the purpose of a solution, describing use cases, and developing test cases of inputs and expected outputs.\\\n",
    "Specify the non-functional requirements of a data analysis.\n",
    "\n",
    "#### **Success Criteria:**\n",
    "I can clearly state the purpose of a data analysis solution.\\\n",
    "I can describe use cases that outline how the data analysis solution will be used.\\\n",
    "I can develop test cases that include inputs and expected outputs for the data analysis solution.\\\n",
    "I can specify non-functional requirements such as performance, scalability, security, and usability for a data analysis solution.\\\n",
    "I can explain the importance of non-functional requirements in ensuring the overall quality and effectiveness of a data analysis solution.\n",
    "\n",
    "---"
   ]
  },
  {
   "attachments": {},
   "cell_type": "markdown",
   "metadata": {},
   "source": [
    "### <ins>**Functional Requirements**<ins>"
   ]
  },
  {
   "attachments": {},
   "cell_type": "markdown",
   "metadata": {},
   "source": [
    "#### **Data Loading:**\n",
    "Description: Have the ability to load files and handle errors if there is a problem when loading a file, for example, wrong format or missing files.\\\n",
    "Input: User will have to attach a .csv or API file\\\n",
    "Output: Programme is able to analysis the data\n"
   ]
  },
  {
   "attachments": {},
   "cell_type": "markdown",
   "metadata": {},
   "source": [
    "#### **Data Cleaning:**\n",
    "Description: Data can be filtered, sorted and grouped, as well as finding and handling with missing values/data or discovering errors\\\n",
    "Input: Error is detected by the program or user inputs a request to filter/sort data\\\n",
    "Output: Program prints error message or shows the user with the requested filtered data\n"
   ]
  },
  {
   "attachments": {},
   "cell_type": "markdown",
   "metadata": {},
   "source": [
    "#### **Data Analysis:** \n",
    "Description: Program has the ability to find the average, highest, lowest or any other value that the user request to see\\\n",
    "Input: User request to see any of the above functinos or their own request\\\n",
    "Output: Program accesses the dataset and visualises it for the user\n"
   ]
  },
  {
   "attachments": {},
   "cell_type": "markdown",
   "metadata": {},
   "source": [
    "#### **Data Visualisation:**\n",
    "How will the data need to be visualised (e.g. Pandas dataframes / Matplotlib chart types)? \n",
    "Description: Data needs to be visualised in a way that the user can understand. For examples a Pandas dataframe\\\n",
    "Input: User will request for the data to be displayed\\\n",
    "Output: Program shows the dataset through a visualised form such as a Pandas Dataframe\n"
   ]
  },
  {
   "attachments": {},
   "cell_type": "markdown",
   "metadata": {},
   "source": [
    "#### **Data Reporting:**\n",
    "Description: Saves the file/program as a .csv or other forms\\\n",
    "Input: The user will need to request to save the file/program\\\n",
    "Output: Saves file as .csv or other form\n",
    "\n",
    "---\n"
   ]
  },
  {
   "attachments": {},
   "cell_type": "markdown",
   "metadata": {},
   "source": [
    "### <ins>**Non-Functional Requirements**<ins>"
   ]
  },
  {
   "attachments": {},
   "cell_type": "markdown",
   "metadata": {},
   "source": [
    "#### **Usability:**\n",
    "Program can be accessed and easily able to be used, read, and understandable to the user. Program must also have a user interface for the user to be able to actually use the program/system. "
   ]
  },
  {
   "attachments": {},
   "cell_type": "markdown",
   "metadata": {},
   "source": [
    "#### **Reliability:**\n",
    "\n",
    "What is required from the system when providing information to the user on errors and ensuring data integrity?\n",
    "\n",
    "---"
   ]
  },
  {
   "attachments": {},
   "cell_type": "markdown",
   "metadata": {},
   "source": [
    "### <ins>**Use Cases**<ins>"
   ]
  },
  {
   "attachments": {},
   "cell_type": "markdown",
   "metadata": {},
   "source": [
    "#### **Data Loading:**\n",
    "Actor: Marketing person\\\n",
    "Goal: To load the dataset\\\n",
    "Preconditions: Dataset is in folder ready for use\\\n",
    "Main Flow:\n",
    "1. User runs program\n",
    "2. File/dataset is loaded\n",
    "\n",
    "Postconditions: Dataset is loaded and ready for analysis.\n",
    "\n",
    "#### **Data Cleaning:**\n",
    "Actor: Marketing Person\\\n",
    "Goal: To filter data set to relevant data\\\n",
    "Preconditions: Dataset is in folder ready for use\\\n",
    "Main Flow:\n",
    "1. User runs program\n",
    "2. User selects data that they wich to be showed\n",
    "3. Program visualises the data\n",
    "4. Program outputs the data in a way that can be visualises\n",
    "\n",
    "Postconditions: Dataset is filtered to the relevant data\n",
    "\n",
    "#### **Data Analysis:**\n",
    "Actor: Marketing person\\\n",
    "Goal: To find the average, highest, or lowest amount of something\n",
    "Preconitions: Dataset is in folder ready for use\\\n",
    "Main Flow:\n",
    "1. User runs program\n",
    "2. User selects whether they want the average, highest, or lowest amount\n",
    "3. Program outputs the requested data\n",
    "\n",
    "Postconditions: Dataset shows the average, highest, or lowest amount of a category\n",
    "\n",
    "#### **Data Visualisation:**\n",
    "Actor: Marketing person\\\n",
    "Goal: To visualise the data so it can be presented\\\n",
    "Preconditions: Dataset is in the folder ready for use\\\n",
    "Main Flow:\n",
    "1. User runs program\n",
    "2. User selects visualise\n",
    "3. Program outputs the dataset in a visualised form\n",
    "\n",
    "Postconditions: Dataset is visualised in a Matplotlib\n",
    "\n",
    "#### **Data Reporting:**\n",
    "Actor: Marketing person\\\n",
    "Goal: To save the file so that it can be used later\\\n",
    "Preconditions: Program is loaded and ready\\\n",
    "Main Flow:\n",
    "1. User saves program\n",
    "\n",
    "Postconditions: program or file is saved as a .csv\n",
    "\n",
    "\n",
    "---\n",
    "---"
   ]
  },
  {
   "attachments": {},
   "cell_type": "markdown",
   "metadata": {},
   "source": [
    "## <ins>**Researching and Planning**</ins>"
   ]
  },
  {
   "attachments": {},
   "cell_type": "markdown",
   "metadata": {},
   "source": [
    "#### **Learning Intentions:**\n",
    "Collect and interpret data while adhering to privacy and cybersecurity principles.\\\n",
    "Represent and store data to facilitate computation, including selecting appropriate data types, understanding data type limitations, and structuring data systematically.\\\n",
    "#### **Success Criteria:**\n",
    "I can collect data following established privacy and cybersecurity principles to ensure data protection.\\\n",
    "I can interpret data while maintaining compliance with privacy regulations and cybersecurity practices.\\\n",
    "I can select appropriate data types for representing and storing data to facilitate computation.\\\n",
    "I can structure data systematically to support efficient computation and analysis.\n",
    "\n",
    "---"
   ]
  },
  {
   "attachments": {},
   "cell_type": "markdown",
   "metadata": {},
   "source": [
    "### <ins>**Research of Chosen Issue**<ins>\n",
    "#### **Purpose:** \n",
    "The purpose of this program is to provide the marketing team with valuable insights into how factors such as staff count, location, and other variables impact sales performance. By analysing this data, marketing professionals can make more informed decisions about whether a particular location needs to hire more staff to meet sales demands. They can also identify opportunities to attract more customers by creating targeted offers or promotions for specific products, optimising resources and maximising sales potential. This approach helps ensure that the marketing strategies are aligned with business objectives and customer needs.\n",
    "#### **Missing Data:**\n",
    "This analysis of data can help many people, both the company and customers may benefit from this. It could make the company more money and potentially save the customer some money.\n",
    "#### **Stakeholders:**\n",
    "The company and consumers/customers\n",
    "#### **Use:**\n",
    "People in marketing will greatly benefit from this data, as it allows them to make well-informed decisions. By analysing the data, they can find trends and preferences, allowing them to make promotions and marketing strategies more effectively. This then not only boosts the success of their company but also ensures that customers receive more relevant and appealing offers, making customers more happy (or alternatively raising the prices so that no one is happy).\n",
    "\n",
    "---\n"
   ]
  },
  {
   "cell_type": "markdown",
   "metadata": {},
   "source": [
    "### <ins>**Privacy and Security**<ins>\n",
    "#### **Data Privacy of Source:**\n",
    "When sourcing data from providers like Kaggle, we need to ensure that the data is anonymized and complies with privacy regulations. The provider should safeguard participant privacy and protect the data from unauthorized access.\n",
    "\n",
    "#### **Application Data Privacy:** \n",
    "While handling datasets like this Coles Supermarket sales data, ensure that no sensitive or identifiable information is exposed. Adhere to data minimization principles, obtain user consent if collecting data directly, and handle all data with care to avoid privacy breaches.\n",
    "\n",
    "#### **Cyber Security:**\n",
    "To maintain cybersecurity, implement user authentication to verify identities, use password hashing techniques to secure stored passwords, and apply encryption to protect data in transit and at rest. Additionally, use HTTPS for secure communication, keep software updated, enforce strict access controls, and regularly back up data to safeguard against potential breaches.\n",
    "\n",
    "---"
   ]
  },
  {
   "cell_type": "markdown",
   "metadata": {},
   "source": [
    "### <ins>**Data Dictionary**<ins>"
   ]
  },
  {
   "cell_type": "markdown",
   "metadata": {},
   "source": [
    "### ColesSalesData.csv:\n",
    "\n",
    "| Field            | Datatype | Format for Display | Description                                                      | Example   | Validation                                                                 |\n",
    "|------------------|----------|--------------------|------------------------------------------------------------------|-----------|----------------------------------------------------------------------------|\n",
    "| Coles_StoreID    | object   | XX...XX            | is a unique ID that uniquely identifies each store. | C524      | Must be alphanumeric, no special characters, no spaces.                   |\n",
    "| Expec_Revenue    | int64    | N                  | is the Expected Revenue in $M a store is supposed to generate in $M. | 39    | Must be a positive integer.                                                |\n",
    "| Gross Sales      | int64    | N                  | is the Gross Sale in $M a store has generated. | 56   | Must be a positive integer.                                                |\n",
    "| Sales_Cost       | float64  | N.NN               | is the cost incurred in $M after the Sale has occurred. | 6  | Must be a positive integer                            |\n",
    "| Targeted_Quarter | object   | XX...XX            | indicates the quarter within a fiscal year to which the sales data corresponds. | Q2 2023        | Must be in the format 'QX' where X is 1-4 and have the year                              |\n",
    "| Coles_Forecast   | object   | XX...XX | Forecast value or status for the store's performance.            | On target      | Can be any alphanumeric string, no special characters, no spaces. |\n",
    "\n"
   ]
  },
  {
   "cell_type": "markdown",
   "metadata": {},
   "source": [
    "### ColesStoreData.csv:\n",
    "\n",
    "| Field           | Datatype | Format for Display | Description                                                      | Example   | Validation                                                                 |\n",
    "|-----------------|----------|--------------------|------------------------------------------------------------------|-----------|----------------------------------------------------------------------------|\n",
    "| Coles_StoreID   | object   | XX...XX            |A unique ID that uniquely identifies each store. | C524      | Must be alphanumeric, no special characters, no spaces.                   |\n",
    "| Store Location  | object   | XX...XX            |Shows which state the store is located in | NSW | Can be any alphanumeric string, no special characters, no spaces. |\n",
    "| Customer Count  | float64  | N.NN               |The average customer count accounted for in the store. | 18445 | Must be a positive integer|\n",
    "| Staff Count     | int64    | N                  |The number of employees who work at the stores. | 36 | Must be a positive integer. |\n",
    "| Store_Area      | int64    | N                  |The store’s size, expressed in square meters. | 2500 | Must be a positive integer, |"
   ]
  },
  {
   "cell_type": "markdown",
   "metadata": {},
   "source": [
    "---\n",
    "---"
   ]
  },
  {
   "cell_type": "markdown",
   "metadata": {},
   "source": [
    "## <ins>**Testing and Evaluating**<ins>"
   ]
  },
  {
   "cell_type": "markdown",
   "metadata": {},
   "source": [
    "### **Data Visualisation**"
   ]
  },
  {
   "cell_type": "markdown",
   "metadata": {},
   "source": [
    "<img src = \"images/StoreCustomer.png\" alt = \"StoreCustomer.png\" width = 450 />"
   ]
  },
  {
   "cell_type": "markdown",
   "metadata": {},
   "source": [
    "<img src = \"images/StoreLocation.png\" alt = \"StoreLocation.png\" width = 450 />"
   ]
  },
  {
   "cell_type": "markdown",
   "metadata": {},
   "source": [
    "<img src = \"images/StoreStaff.png\" alt = \"StoreStaff.png\" width = 450 />"
   ]
  },
  {
   "cell_type": "markdown",
   "metadata": {},
   "source": [
    "---"
   ]
  },
  {
   "cell_type": "markdown",
   "metadata": {},
   "source": [
    "### **Calculations**"
   ]
  },
  {
   "cell_type": "markdown",
   "metadata": {},
   "source": [
    "I have none\n",
    "\n",
    "---"
   ]
  },
  {
   "cell_type": "markdown",
   "metadata": {},
   "source": [
    "### **Accuracy**"
   ]
  },
  {
   "cell_type": "markdown",
   "metadata": {},
   "source": [
    "The data and results provided by the dataset and generated by my program are accurate. This accuracy is evident because the results are both reasonable and logical. For instance, the relationship between the number of staff and increased sales aligns with expectations, suggesting that more staff equals to higher sales. This consistency with real-world business principles reinforces the reliability of the data and the program’s outputs."
   ]
  },
  {
   "cell_type": "markdown",
   "metadata": {},
   "source": [
    "---"
   ]
  },
  {
   "cell_type": "markdown",
   "metadata": {},
   "source": [
    "### **Conclusion**"
   ]
  },
  {
   "cell_type": "markdown",
   "metadata": {},
   "source": [
    "This Data analysis has met the goal of using sales data, alongside staff and location data, to show us that they correlate. Staff was seen to have the highest impact and this makes sense as a very busy store would need more staff to handle all the people, resulting in more sales. The location of the store (state) was found to not have much of an impact, this is expected as the data was restricted to only providing states and not more precise locations. Customers of course had a huge impact as they are of course the consumers and the actual people buying and providing the compant with money."
   ]
  },
  {
   "cell_type": "markdown",
   "metadata": {},
   "source": [
    "---"
   ]
  },
  {
   "cell_type": "markdown",
   "metadata": {},
   "source": [
    "### **Peer Evaluation**"
   ]
  },
  {
   "cell_type": "markdown",
   "metadata": {},
   "source": [
    "Rufus Whelan-\"Barry's program meets his success criteria by effectively loading, cleaning, analyzing, and visualizing the data, offering insights into how store location, staff, and customers impact sales, and ensuring user-friendliness for all interactions.\""
   ]
  },
  {
   "cell_type": "markdown",
   "metadata": {},
   "source": [
    "Miles Cutting- \"Barry was highly effective at hitting both his functional requirements and his non-functional requirements. His UI was simple to understand but he could have done better and made a GUI.\""
   ]
  },
  {
   "cell_type": "markdown",
   "metadata": {},
   "source": [
    "I have considered both inputs that i have recieved. Rufus' does not criticise anything and says that it achieved the goals of the data analysis. Miles' on the otherhand i agree with, I did not have the time that was required to create a functional GUI, and instead going with just a text based UI. I could have unlocked better time management skills and created a GUI but unfortunately I didn't, I attempt to do better next time."
   ]
  },
  {
   "cell_type": "markdown",
   "metadata": {},
   "source": [
    "---"
   ]
  },
  {
   "cell_type": "markdown",
   "metadata": {},
   "source": [
    "### **Evaluation**"
   ]
  },
  {
   "cell_type": "markdown",
   "metadata": {},
   "source": [
    "My data analysis works, it achieves the goals that I set and provides the necessary information needed. It adheres to the functional requirements of data loading, data cleaning, data analysis, data visualisation and data reporting. It was able to load the data with no problems, it was able to rid of useless data that was not required, it was able to visualise the data, and it was able to be saved. The Data analysis part was not very useful for the goal of the data analysis and so it is not present much. \n",
    "\n",
    "The usability of the program was good, it is able to be understood easily when visualising, but not much so when you ask for the dataframes. Reliability is present as you are getting the same data each time which means same result\n"
   ]
  },
  {
   "cell_type": "markdown",
   "metadata": {},
   "source": [
    "---"
   ]
  },
  {
   "cell_type": "markdown",
   "metadata": {},
   "source": [
    "### **Self Evaluation**"
   ]
  },
  {
   "cell_type": "markdown",
   "metadata": {},
   "source": [
    "This data analysis project turned out to be decently challenging and involved good time management skills to achieve full marks. Which I did not have due to both a ski trip and my own bad habits of procrastinating. The documentation of this project is very limited as I was very far behind and basically did the entire code in one sitting. It took a few hours to get right but I succeeded in the end. Most of the problems I faced were all resolved with my special abilty of searching things up on google. "
   ]
  },
  {
   "cell_type": "markdown",
   "metadata": {},
   "source": [
    "---\n",
    "---"
   ]
  }
 ],
 "metadata": {
  "kernelspec": {
   "display_name": "Python 3",
   "language": "python",
   "name": "python3"
  },
  "language_info": {
   "name": "python",
   "version": "3.9.2"
  },
  "orig_nbformat": 4
 },
 "nbformat": 4,
 "nbformat_minor": 2
}
