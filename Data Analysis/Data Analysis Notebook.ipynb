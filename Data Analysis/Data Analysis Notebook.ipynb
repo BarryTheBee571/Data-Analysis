{
 "cells": [
  {
   "attachments": {},
   "cell_type": "markdown",
   "metadata": {},
   "source": [
    "# <ins>**Data Analysis- Coles Sales Data**</ins>\n",
    "\n",
    "---\n",
    "---\n"
   ]
  },
  {
   "attachments": {},
   "cell_type": "markdown",
   "metadata": {},
   "source": [
    "#### **Learning Intentions:**\n",
    "Specify the functional requirements of a data analysis, including stating the purpose of a solution, describing use cases, and developing test cases of inputs and expected outputs.\\\n",
    "Specify the non-functional requirements of a data analysis.\n",
    "\n",
    "#### **Success Criteria:**\n",
    "I can clearly state the purpose of a data analysis solution.\\\n",
    "I can describe use cases that outline how the data analysis solution will be used.\\\n",
    "I can develop test cases that include inputs and expected outputs for the data analysis solution.\\\n",
    "I can specify non-functional requirements such as performance, scalability, security, and usability for a data analysis solution.\\\n",
    "I can explain the importance of non-functional requirements in ensuring the overall quality and effectiveness of a data analysis solution.\n",
    "\n",
    "---\n",
    "---\n"
   ]
  },
  {
   "attachments": {},
   "cell_type": "markdown",
   "metadata": {},
   "source": [
    "## <ins>**Identifying and Defining**</ins>\n",
    "**Data:** Coles Sales and Store Data\\\n",
    "**Goal:** Find out if location and staff count impact sales\\\n",
    "**Source:** https://www.kaggle.com/datasets/ankitab18/coles-supermarket-sales?resource=download&select=ColesSalesData.csv\\\n",
    "**Access:** It is publicly available through kaggle\\\n",
    "**Access Method:** Access to data will be through a .csv file\n",
    "\n",
    "---\n",
    "\n"
   ]
  },
  {
   "attachments": {},
   "cell_type": "markdown",
   "metadata": {},
   "source": [
    "### <ins>**Functional Requirements**<ins>"
   ]
  },
  {
   "attachments": {},
   "cell_type": "markdown",
   "metadata": {},
   "source": [
    "#### **Data Loading:**\n",
    "Description: Have the ability to load files and handle errors if there is a problem when loading a file, for example, wrong format or missing files.\\\n",
    "Input: User will have to attach a .csv or API file\\\n",
    "Output: Programme is able to analysis the data\n"
   ]
  },
  {
   "attachments": {},
   "cell_type": "markdown",
   "metadata": {},
   "source": [
    "#### **Data Cleaning:**\n",
    "Description: Data can be filtered, sorted and grouped, as well as finding and handling with missing values/data or discovering errors\\\n",
    "Input: Error is detected by the program or user inputs a request to filter/sort data\\\n",
    "Output: Program prints error message or shows the user with the requested filtered data\n"
   ]
  },
  {
   "attachments": {},
   "cell_type": "markdown",
   "metadata": {},
   "source": [
    "#### **Data Analysis:** \n",
    "Description: Program has the ability to find the average, highest, lowest or any other value that the user request to see\\\n",
    "Input: User request to see any of the above functinos or their own request\\\n",
    "Output: Program accesses the dataset and visualises it for the user\n"
   ]
  },
  {
   "attachments": {},
   "cell_type": "markdown",
   "metadata": {},
   "source": [
    "#### **Data Visualisation:**\n",
    "How will the data need to be visualised (e.g. Pandas dataframes / Matplotlib chart types)? \n",
    "Description: Data needs to be visualised in a way that the user can understand. For examples a Pandas dataframe\\\n",
    "Input: User will request for the data to be displayed\\\n",
    "Output: Program shows the dataset through a visualised form such as a Pandas Dataframe\n"
   ]
  },
  {
   "attachments": {},
   "cell_type": "markdown",
   "metadata": {},
   "source": [
    "#### **Data Reporting:**\n",
    "Description: Saves the file/program as a .csv or other forms\\\n",
    "Input: The user will need to request to save the file/program\\\n",
    "Output: Saves file as .csv or other form\n",
    "\n",
    "---\n"
   ]
  },
  {
   "attachments": {},
   "cell_type": "markdown",
   "metadata": {},
   "source": [
    "### <ins>**Non-Functional Requirements**<ins>"
   ]
  },
  {
   "attachments": {},
   "cell_type": "markdown",
   "metadata": {},
   "source": [
    "#### **Usability:**\n",
    "Program can be accessed and easily able to be used, read, and understandable to the user. Program must also have a user interface for the user to be able to actually use the program/system. "
   ]
  },
  {
   "attachments": {},
   "cell_type": "markdown",
   "metadata": {},
   "source": [
    "#### **Reliability:**\n",
    "\n",
    "---"
   ]
  },
  {
   "attachments": {},
   "cell_type": "markdown",
   "metadata": {},
   "source": [
    "### <ins>**Use Cases**<ins>"
   ]
  },
  {
   "attachments": {},
   "cell_type": "markdown",
   "metadata": {},
   "source": [
    "Actor: User\n",
    "Goal: To load a dataset into the system.\n",
    "Preconditions: User has a dataset file ready.\n",
    "Main Flow:\n",
    "User places the dataset for reading into the correct folder.\n",
    "System validates the file format.\n",
    "System loads the dataset and displays the information in a dataframe.\n",
    "Postconditions: Dataset is loaded and ready for analysis.\n"
   ]
  }
 ],
 "metadata": {
  "kernelspec": {
   "display_name": "Python 3",
   "language": "python",
   "name": "python3"
  },
  "language_info": {
   "name": "python",
   "version": "3.9.2"
  },
  "orig_nbformat": 4
 },
 "nbformat": 4,
 "nbformat_minor": 2
}
