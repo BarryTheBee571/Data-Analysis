{
 "cells": [
  {
   "attachments": {},
   "cell_type": "markdown",
   "metadata": {},
   "source": [
    "# **Data Analysis- Coles Sales Data**"
   ]
  },
  {
   "attachments": {},
   "cell_type": "markdown",
   "metadata": {},
   "source": [
    "#### **Learning Intentions:**\n",
    "Specify the functional requirements of a data analysis, including stating the purpose of a solution, describing use cases, and developing test cases of inputs and expected outputs.\\\n",
    "Specify the non-functional requirements of a data analysis.\n",
    "\n",
    "#### **Success Criteria:**\n",
    "I can clearly state the purpose of a data analysis solution.\\\n",
    "I can describe use cases that outline how the data analysis solution will be used.\\\n",
    "I can develop test cases that include inputs and expected outputs for the data analysis solution.\\\n",
    "I can specify non-functional requirements such as performance, scalability, security, and usability for a data analysis solution.\\\n",
    "I can explain the importance of non-functional requirements in ensuring the overall quality and effectiveness of a data analysis solution.\n"
   ]
  },
  {
   "attachments": {},
   "cell_type": "markdown",
   "metadata": {},
   "source": [
    "### **Identifying and Defining**\n",
    "**Data:** Coles Sales and Store Data\\\n",
    "**Goal:** Find out if location and staff count impact sales\\\n",
    "**Source:** https://www.kaggle.com/datasets/ankitab18/coles-supermarket-sales?resource=download&select=ColesSalesData.csv\\\n",
    "**Access:** It is publicly available\\\n",
    "**Access Method:** Access to data will be through a .csv file\n",
    "\n",
    "\n"
   ]
  },
  {
   "attachments": {},
   "cell_type": "markdown",
   "metadata": {},
   "source": [
    "### **Functional Requirements**"
   ]
  },
  {
   "attachments": {},
   "cell_type": "markdown",
   "metadata": {},
   "source": [
    "#### **Data Loading:**\n",
    "Consider aspects such as ability to load certain file types and handling errors in file loading (e.g. incorrect format, missing files).\n",
    "\n",
    "Function Name \n",
    "Description: Describe what the program needs to do.\n",
    "Input: Describe what the user will input for this to happen.\n",
    "Output: Describe what the program will output based on the user input.\n"
   ]
  },
  {
   "attachments": {},
   "cell_type": "markdown",
   "metadata": {},
   "source": [
    "#### **Data Cleaning:**\n",
    "Does the system need to handle missing values or allow for filtering, sorting and grouping of data?\n",
    "\n",
    "Function Name \n",
    "Description: Describe what the program needs to do.\n",
    "Input: Describe what the user will input for this to happen.\n",
    "Output: Describe what the program will output based on the user input.\n"
   ]
  },
  {
   "attachments": {},
   "cell_type": "markdown",
   "metadata": {},
   "source": [
    "#### **Data Analysis:** \n",
    "What kind of statistical analysis does the system need to allow for (e.g. mean, median, mode)?\n",
    "\n",
    "Function Name \n",
    "Description: Describe what the program needs to do.\n",
    "Input: Describe what the user will input for this to happen.\n",
    "Output: Describe what the program will output based on the user input.\n"
   ]
  },
  {
   "attachments": {},
   "cell_type": "markdown",
   "metadata": {},
   "source": [
    "#### **Data Visualisation:**\n",
    "How will the data need to be visualised (e.g. Pandas dataframes / Matplotlib chart types)?\n",
    "\n",
    "Function Name \n",
    "Description: Describe what the program needs to do.\n",
    "Input: Describe what the user will input for this to happen.\n",
    "Output: Describe what the program will output based on the user input.\n"
   ]
  },
  {
   "attachments": {},
   "cell_type": "markdown",
   "metadata": {},
   "source": [
    "#### **Data Reporting:**\n",
    "What output should the system include, and do we need to store the final dataset somewhere (e.g. .csv or .txt file)?\n",
    "\n",
    "Function Name \n",
    "Description: Describe what the program needs to do.\n",
    "Input: Describe what the user will input for this to happen.\n",
    "Output: Describe what the program will output based on the user input.\n"
   ]
  },
  {
   "attachments": {},
   "cell_type": "markdown",
   "metadata": {},
   "source": [
    "### **Use Cases**"
   ]
  },
  {
   "attachments": {},
   "cell_type": "markdown",
   "metadata": {},
   "source": [
    "Actor: User\n",
    "Goal: To load a dataset into the system.\n",
    "Preconditions: User has a dataset file ready.\n",
    "Main Flow:\n",
    "User places the dataset for reading into the correct folder.\n",
    "System validates the file format.\n",
    "System loads the dataset and displays the information in a dataframe.\n",
    "Postconditions: Dataset is loaded and ready for analysis.\n"
   ]
  },
  {
   "attachments": {},
   "cell_type": "markdown",
   "metadata": {},
   "source": [
    "### **Non-Functional Requirements**"
   ]
  }
 ],
 "metadata": {
  "kernelspec": {
   "display_name": "Python 3",
   "language": "python",
   "name": "python3"
  },
  "language_info": {
   "name": "python",
   "version": "3.9.2"
  },
  "orig_nbformat": 4
 },
 "nbformat": 4,
 "nbformat_minor": 2
}
